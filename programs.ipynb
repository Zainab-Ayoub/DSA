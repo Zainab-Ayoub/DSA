{
 "cells": [
  {
   "cell_type": "markdown",
   "metadata": {},
   "source": [
    "# Linear Search"
   ]
  },
  {
   "cell_type": "code",
   "execution_count": null,
   "metadata": {
    "vscode": {
     "languageId": "plaintext"
    }
   },
   "outputs": [],
   "source": [
    "#include<iostream>\n",
    "using namespace std;\n",
    "\n",
    "int main(){\n",
    "    int arr[5] = {1,2,3,4,5}, *ptr;\n",
    "    ptr = arr;\n",
    "    int x;\n",
    "    cout<<\"Enter a number you want to search: \";\n",
    "    cin>>x;\n",
    "    for(int i=0; i<5; i++){\n",
    "        if(*(ptr+i) == x){\n",
    "            cout<<\"Value found at index: \"<<i+1<<endl;\n",
    "            return 0;\n",
    "        }\n",
    "    } cout<<\"Value not found!\"<<endl;\n",
    "}"
   ]
  },
  {
   "cell_type": "markdown",
   "metadata": {},
   "source": [
    "# Binary Search"
   ]
  },
  {
   "cell_type": "code",
   "execution_count": null,
   "metadata": {
    "vscode": {
     "languageId": "plaintext"
    }
   },
   "outputs": [],
   "source": [
    "#include<iostream>\n",
    "using namespace std;\n",
    "\n",
    "int main(){\n",
    "    int arr[5]= {10, 20, 30, 40, 50}, *ptr, x;\n",
    "    int start = 0, end = 4;\n",
    "    int flag = -1; \n",
    "    ptr = arr;\n",
    "    cout<<\"Enter a value you want to search: \";\n",
    "    cin>>x;\n",
    "    while(start <= end){\n",
    "        int mid = (start + end)/2;\n",
    "        int value = *(ptr + mid);\n",
    "\n",
    "        if(value == x){\n",
    "            flag = mid;\n",
    "            cout<<\"Value found at index: \"<<flag<<endl;\n",
    "            return 0;\n",
    "        } else if(value < x){\n",
    "            start = mid + 1;\n",
    "        } else{\n",
    "            end = mid - 1;\n",
    "        }\n",
    "    }\n",
    "    if(flag == -1){\n",
    "        cout<<\"Value not found!\"<<endl;\n",
    "    }\n",
    "}"
   ]
  },
  {
   "cell_type": "markdown",
   "metadata": {},
   "source": [
    "# Even Odd Swapping"
   ]
  },
  {
   "cell_type": "code",
   "execution_count": null,
   "metadata": {
    "vscode": {
     "languageId": "plaintext"
    }
   },
   "outputs": [],
   "source": [
    "#include <iostream>\n",
    "using namespace std;\n",
    "\n",
    "int main(){\n",
    "    int input[5];\n",
    "    int arr[10] = {0}; \n",
    "\n",
    "    cout<<\"Enter 5 numbers:\\n\";\n",
    "    for(int i = 0; i < 5; ++i){\n",
    "        cin >> input[i];\n",
    "    }\n",
    "\n",
    "    int *arrPtr = arr + 1; \n",
    "    int evenIndex = 1;     \n",
    "    int oddIndex = 2;      \n",
    "\n",
    "    for(int i = 0; i < 5; ++i){\n",
    "        if(input[i] % 2 == 0){\n",
    "            if (evenIndex < 10){\n",
    "                *(arr + evenIndex) = input[i];\n",
    "                evenIndex += 2;\n",
    "            }\n",
    "        } else{\n",
    "            if(oddIndex < 10){\n",
    "                *(arr + oddIndex) = input[i];\n",
    "                oddIndex += 2;\n",
    "            }\n",
    "        }\n",
    "    }\n",
    "\n",
    "    cout<<\"\\nFinal array:\\n\";\n",
    "    for(int i = 0; i < 10; ++i) {\n",
    "        cout<<\"arr[\" << i << \"] = \"<<*(arr + i)<<endl;\n",
    "    }\n",
    "}"
   ]
  },
  {
   "cell_type": "markdown",
   "metadata": {},
   "source": [
    "# Linked List"
   ]
  },
  {
   "cell_type": "markdown",
   "metadata": {},
   "source": [
    "# Bubble Sort"
   ]
  },
  {
   "cell_type": "code",
   "execution_count": null,
   "metadata": {
    "vscode": {
     "languageId": "plaintext"
    }
   },
   "outputs": [],
   "source": [
    "#include <iostream>\n",
    "using namespace std;\n",
    "\n",
    "struct Node {\n",
    "    int data;\n",
    "    Node* next;\n",
    "    Node(int val) : data(val), next(nullptr) {}\n",
    "};\n",
    "\n",
    "void printList(Node* head) {\n",
    "    while (head) {\n",
    "        cout << head->data << \" \";\n",
    "        head = head->next;\n",
    "    }\n",
    "    cout << endl;\n",
    "}\n",
    "void bubbleSort(Node* head) {\n",
    "    if (!head) return;\n",
    "\n",
    "    int n = 0;\n",
    "    Node* temp = head;\n",
    "    while (temp) {\n",
    "        n++;\n",
    "        temp = temp->next;\n",
    "    }\n",
    "\n",
    "    for (int i = 0; i < n - 1; ++i) {\n",
    "        Node* curr = head;\n",
    "        while (curr->next) {\n",
    "            if (curr->data > curr->next->data) {\n",
    "                int t = curr->data;\n",
    "                curr->data = curr->next->data;\n",
    "                curr->next->data = t;\n",
    "            }\n",
    "            curr = curr->next;\n",
    "        }\n",
    "    }\n",
    "}\n",
    "int main() {\n",
    "    Node* head = new Node(4);\n",
    "    head->next = new Node(3);\n",
    "    head->next->next = new Node(1);\n",
    "    head->next->next->next = new Node(2);\n",
    "\n",
    "    cout << \"Original list: \";\n",
    "    printList(head);\n",
    "\n",
    "    cout << \"Sorted list: \";\n",
    "    bubbleSort(head);\n",
    "    printList(head);\n",
    "}"
   ]
  },
  {
   "cell_type": "markdown",
   "metadata": {},
   "source": [
    "# Copy List To Stack"
   ]
  },
  {
   "cell_type": "code",
   "execution_count": null,
   "metadata": {
    "vscode": {
     "languageId": "plaintext"
    }
   },
   "outputs": [],
   "source": [
    "#include<iostream>\n",
    "using namespace std;\n",
    "\n",
    "struct Node{\n",
    "\tint data;\n",
    "\tNode* next;\n",
    "\tNode(int val): data(val), next(NULL){};\n",
    "};\n",
    "\n",
    "void copyToStack(Node* head){\n",
    "\tint stack[5], i=0;\n",
    "\twhile(head){\n",
    "\t\tstack[i] = head->data;\n",
    "\t\tcout<<stack[i]<<\" \";\n",
    "\t\ti++;                                                                                                    \n",
    "\t\thead = head->next;\n",
    "\t}\n",
    "}\n",
    "\n",
    "int main(){\n",
    "\tNode* head = new Node(1);\n",
    "\thead->next = new Node(2);\n",
    "\thead->next->next = new Node(3);\n",
    "\thead->next->next->next = new Node(4);\n",
    "\thead->next->next->next->next = new Node(5);\n",
    "\tcout<<\"Values in Stack: \";\n",
    "\tcopyToStack(head);\n",
    "}"
   ]
  },
  {
   "cell_type": "markdown",
   "metadata": {},
   "source": []
  }
 ],
 "metadata": {
  "language_info": {
   "name": "python"
  }
 },
 "nbformat": 4,
 "nbformat_minor": 2
}
